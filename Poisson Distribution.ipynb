{
 "cells": [
  {
   "cell_type": "code",
   "execution_count": 113,
   "id": "0f2852c6-a403-41c0-a2af-3ef9521ec7af",
   "metadata": {},
   "outputs": [],
   "source": [
    "import math \n",
    "import numpy as np"
   ]
  },
  {
   "cell_type": "markdown",
   "id": "50423de9-f0ae-49d8-9016-23ebd05470b5",
   "metadata": {},
   "source": [
    "## Poisson Distribution PMF "
   ]
  },
  {
   "cell_type": "code",
   "execution_count": 114,
   "id": "fcae6348-3e5b-4bdf-b51d-1d0d446a3eaf",
   "metadata": {},
   "outputs": [],
   "source": [
    "def poisson_pmf(x,mu) : \n",
    "    if x > 0 and mu > 0:\n",
    "        return (math.exp(-mu))*(1/math.factorial(x))*(mu**x)\n",
    "    else: \n",
    "        return 0 "
   ]
  },
  {
   "cell_type": "code",
   "execution_count": 115,
   "id": "c5841560-070e-4337-8fef-c1ee93af8ae3",
   "metadata": {},
   "outputs": [
    {
     "name": "stdout",
     "output_type": "stream",
     "text": [
      "0.037833274802070715\n"
     ]
    }
   ],
   "source": [
    "print(poisson_pmf(5, 10))"
   ]
  },
  {
   "cell_type": "markdown",
   "id": "f44fcab6-4523-49fe-8f9d-298a9b2294bb",
   "metadata": {},
   "source": [
    "## Poisson Distribution CDF"
   ]
  },
  {
   "cell_type": "code",
   "execution_count": 116,
   "id": "6da6d94a-ec03-476d-ad59-5ff92929c6c4",
   "metadata": {},
   "outputs": [],
   "source": [
    "def poisson_cdf(x,mu) :\n",
    "    cumulative = 0.0\n",
    "    i = 0\n",
    "    while i <= x:\n",
    "        cumulative += (mu ** i) / float(math.factorial(i))\n",
    "        i += 1\n",
    "    cumulative *= math.exp(-mu)\n",
    "    return cumulative "
   ]
  },
  {
   "cell_type": "code",
   "execution_count": 117,
   "id": "3d88a4f5-2832-4d84-98df-9bc756ad7149",
   "metadata": {},
   "outputs": [
    {
     "data": {
      "text/plain": [
       "0.06708596287903179"
      ]
     },
     "execution_count": 117,
     "metadata": {},
     "output_type": "execute_result"
    }
   ],
   "source": [
    "poisson_cdf(5,10)"
   ]
  },
  {
   "cell_type": "markdown",
   "id": "1698b475-9226-45e0-a921-e08f85f6d06f",
   "metadata": {},
   "source": [
    "## Mean "
   ]
  },
  {
   "cell_type": "code",
   "execution_count": 118,
   "id": "d6e013aa-7f5d-4ba7-bc3b-3735bdaaad65",
   "metadata": {},
   "outputs": [],
   "source": [
    "def poisson_mean(x,mu):\n",
    "    return mu "
   ]
  },
  {
   "cell_type": "code",
   "execution_count": 119,
   "id": "317f5084-1e2e-44b9-9668-82081fbc89d4",
   "metadata": {},
   "outputs": [
    {
     "name": "stdout",
     "output_type": "stream",
     "text": [
      "10\n"
     ]
    }
   ],
   "source": [
    "print(poisson_mean(5,10)) "
   ]
  },
  {
   "cell_type": "markdown",
   "id": "328bd6d1-bf75-45f6-9ede-20dc37ac6f94",
   "metadata": {},
   "source": [
    "## Standard Deviation "
   ]
  },
  {
   "cell_type": "code",
   "execution_count": 120,
   "id": "aa6600f4-5e5c-4a18-854b-ec7ecb4b54ff",
   "metadata": {},
   "outputs": [],
   "source": [
    "def poisson_sd(x,mu):\n",
    "    return math.sqrt(mu)"
   ]
  },
  {
   "cell_type": "code",
   "execution_count": 121,
   "id": "bef40d28-f534-420f-b599-0bc929addc75",
   "metadata": {},
   "outputs": [
    {
     "name": "stdout",
     "output_type": "stream",
     "text": [
      "3.1622776601683795\n"
     ]
    }
   ],
   "source": [
    "print(poisson_sd(5,10))"
   ]
  },
  {
   "cell_type": "markdown",
   "id": "d2e3c056-23a9-484d-abe7-0dd2bed0749b",
   "metadata": {},
   "source": [
    "## Poisson Random Varibale"
   ]
  },
  {
   "cell_type": "code",
   "execution_count": 122,
   "id": "efc0b699-f6ff-49e5-b271-e2db33e2852b",
   "metadata": {},
   "outputs": [],
   "source": [
    "#Defined a function to generate poisson RV and then iterating that function over a range \n",
    "def poisson_ud(mu):\n",
    "    e, n, u = math.exp(-mu), 0, np.random.uniform(0,1)\n",
    "    p, fact, power = e, 1, 1\n",
    "    while u > p :\n",
    "        n = n + 1\n",
    "        fact, power = n*fact, mu*power \n",
    "        p = p + (power/fact)*e\n",
    "    return n \n",
    "def poisson_rvs(mu, size):\n",
    "    for i in range(0,size):\n",
    "        pp = poisson_ud(mu)\n",
    "        print(pp, end = ' ')\n",
    "    return np.array(pp)"
   ]
  },
  {
   "cell_type": "code",
   "execution_count": 124,
   "id": "56a87187-4cf5-4006-accb-23e8ec731748",
   "metadata": {},
   "outputs": [
    {
     "name": "stdout",
     "output_type": "stream",
     "text": [
      "6 7 4 2 3 6 6 6 4 4 5 4 10 8 5 "
     ]
    },
    {
     "data": {
      "text/plain": [
       "array(5)"
      ]
     },
     "execution_count": 124,
     "metadata": {},
     "output_type": "execute_result"
    }
   ],
   "source": [
    "poisson_rvs(5, size = 15)"
   ]
  }
 ],
 "metadata": {
  "kernelspec": {
   "display_name": "Python 3 (ipykernel)",
   "language": "python",
   "name": "python3"
  },
  "language_info": {
   "codemirror_mode": {
    "name": "ipython",
    "version": 3
   },
   "file_extension": ".py",
   "mimetype": "text/x-python",
   "name": "python",
   "nbconvert_exporter": "python",
   "pygments_lexer": "ipython3",
   "version": "3.8.8"
  }
 },
 "nbformat": 4,
 "nbformat_minor": 5
}
